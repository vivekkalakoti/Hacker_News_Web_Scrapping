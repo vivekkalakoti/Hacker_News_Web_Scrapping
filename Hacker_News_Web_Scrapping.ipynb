{
 "cells": [
  {
   "cell_type": "code",
   "execution_count": 50,
   "id": "c2e1c908",
   "metadata": {},
   "outputs": [],
   "source": [
    "import requests"
   ]
  },
  {
   "cell_type": "code",
   "execution_count": 51,
   "id": "9ba473d8",
   "metadata": {},
   "outputs": [],
   "source": [
    "from bs4 import BeautifulSoup"
   ]
  },
  {
   "cell_type": "code",
   "execution_count": 52,
   "id": "0d34ba21",
   "metadata": {},
   "outputs": [],
   "source": [
    "import smtplib\n"
   ]
  },
  {
   "cell_type": "code",
   "execution_count": 53,
   "id": "601c65fd",
   "metadata": {},
   "outputs": [],
   "source": [
    "from email.mime.multipart import MIMEMultipart"
   ]
  },
  {
   "cell_type": "code",
   "execution_count": 54,
   "id": "4a9b8f4b",
   "metadata": {},
   "outputs": [],
   "source": [
    "from email.mime.text import MIMEText"
   ]
  },
  {
   "cell_type": "code",
   "execution_count": 55,
   "id": "07f85d32",
   "metadata": {},
   "outputs": [],
   "source": [
    "import datetime"
   ]
  },
  {
   "cell_type": "code",
   "execution_count": 56,
   "id": "4eddce12",
   "metadata": {},
   "outputs": [],
   "source": [
    "now = datetime.datetime.now()"
   ]
  },
  {
   "cell_type": "code",
   "execution_count": 57,
   "id": "d46ea877",
   "metadata": {},
   "outputs": [],
   "source": [
    "content = ''"
   ]
  },
  {
   "cell_type": "code",
   "execution_count": 58,
   "id": "34ca6830",
   "metadata": {},
   "outputs": [],
   "source": [
    "#Extracting Hacker news Stories"
   ]
  },
  {
   "cell_type": "code",
   "execution_count": 59,
   "id": "6980c8e2",
   "metadata": {},
   "outputs": [],
   "source": [
    "def extract_news(url):\n",
    "    print('Extracting Hacker News Stories... ')\n",
    "    cnt = ''\n",
    "    cnt +=('<b>HN Top Stories:</b>\\n'+'<br>'+'-'*50+'<br>')\n",
    "    response = requests.get(url)\n",
    "    content = response.content\n",
    "    soup = BeautifulSoup(content, 'html.parser')\n",
    "    for i, tag in enumerate(soup.find_all('td',attr={'class':'title','valign':''})):\n",
    "                         cnt += ((str(i+1)+'::'+tag.text + \"\\n\" + '<br>') if tag.text!='More' else'')\n",
    "                                 #print(tag,prettify) #find all (span,attr='class':'sitestr'}))\n",
    "                         return(cnt)"
   ]
  },
  {
   "cell_type": "code",
   "execution_count": 73,
   "id": "4ce3003b",
   "metadata": {},
   "outputs": [
    {
     "name": "stdout",
     "output_type": "stream",
     "text": [
      "Extracting Hacker News Stories... \n"
     ]
    }
   ],
   "source": [
    "cnt = extract_news('https://news.ycombinator.com/')\n",
    "content += 'cnt'\n",
    "content += ('<br>------<br>')\n",
    "content += ('<br><br>End of Message')\n",
    "            \n",
    "            "
   ]
  },
  {
   "cell_type": "code",
   "execution_count": 61,
   "id": "5413ff5a",
   "metadata": {},
   "outputs": [],
   "source": [
    "#Let's send the mail"
   ]
  },
  {
   "cell_type": "code",
   "execution_count": 62,
   "id": "b9d1b0a0",
   "metadata": {},
   "outputs": [
    {
     "name": "stdout",
     "output_type": "stream",
     "text": [
      "Composing Email... \n"
     ]
    }
   ],
   "source": [
    "print('Composing Email... ')"
   ]
  },
  {
   "cell_type": "code",
   "execution_count": 63,
   "id": "8111308d",
   "metadata": {},
   "outputs": [],
   "source": [
    "#Update your email details"
   ]
  },
  {
   "cell_type": "code",
   "execution_count": 71,
   "id": "4a790727",
   "metadata": {},
   "outputs": [],
   "source": [
    "SERVER = 'SMTP.gmail.com'# \"your smtp server\"\n",
    "PORT = 587\n",
    "FROM = ''\n",
    "TO = ''\n",
    "PASS = ''"
   ]
  },
  {
   "cell_type": "code",
   "execution_count": 65,
   "id": "cd37b1ac",
   "metadata": {},
   "outputs": [],
   "source": [
    "# fp = open(file_name, 'rb')\n",
    "# create a text/plain message\n",
    "# msg = MIMEText('')"
   ]
  },
  {
   "cell_type": "code",
   "execution_count": 66,
   "id": "e62f8490",
   "metadata": {},
   "outputs": [],
   "source": [
    "msg = MIMEMultipart()"
   ]
  },
  {
   "cell_type": "code",
   "execution_count": 67,
   "id": "d418385a",
   "metadata": {},
   "outputs": [],
   "source": [
    "# msg.add_header('Content-Disposition','attachment',filename='empty.txt')\n",
    "msg['subject'] = 'Top News Stories HN [Automated Email]' + '' + str(now.day) + '-' + str(now.month) + '-' + str(now.year)\n",
    "msg['FROM'] = FROM\n",
    "msg['TO'] = TO\n",
    "\n",
    "msg.attach(MIMEText(content, 'html'))\n",
    "\n",
    "#fp.close"
   ]
  },
  {
   "cell_type": "code",
   "execution_count": 74,
   "id": "344448a7",
   "metadata": {},
   "outputs": [
    {
     "name": "stdout",
     "output_type": "stream",
     "text": [
      "Initialising Server... \n"
     ]
    }
   ],
   "source": [
    "print('Initialising Server... ')"
   ]
  },
  {
   "cell_type": "code",
   "execution_count": null,
   "id": "39f01485",
   "metadata": {},
   "outputs": [],
   "source": [
    "server = smtplib.SMTP(SERVER, PORT)\n",
    "#server = smtplib.SMTP SSL('smtp.gmail.com', 465)\n",
    "server.set_debuglevel(1)\n",
    "server.ehlo()\n",
    "server.starttls()\n",
    "#server.ehlo\n",
    "server.login(FROM, PASS)\n",
    "server.sendmail(FROM, TO, msg.as_string())\n",
    "\n",
    "print('Email Sent... ')\n",
    "server.quit()"
   ]
  },
  {
   "cell_type": "code",
   "execution_count": null,
   "id": "66a80683",
   "metadata": {},
   "outputs": [],
   "source": []
  }
 ],
 "metadata": {
  "kernelspec": {
   "display_name": "Python 3 (ipykernel)",
   "language": "python",
   "name": "python3"
  },
  "language_info": {
   "codemirror_mode": {
    "name": "ipython",
    "version": 3
   },
   "file_extension": ".py",
   "mimetype": "text/x-python",
   "name": "python",
   "nbconvert_exporter": "python",
   "pygments_lexer": "ipython3",
   "version": "3.9.12"
  }
 },
 "nbformat": 4,
 "nbformat_minor": 5
}
